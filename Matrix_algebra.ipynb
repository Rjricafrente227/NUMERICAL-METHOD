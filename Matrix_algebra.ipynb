{
  "nbformat": 4,
  "nbformat_minor": 0,
  "metadata": {
    "colab": {
      "name": "Matrix algebra",
      "provenance": [],
      "authorship_tag": "ABX9TyM5f0H1WLmRME2DcZlsj86q",
      "include_colab_link": true
    },
    "kernelspec": {
      "name": "python3",
      "display_name": "Python 3"
    },
    "language_info": {
      "name": "python"
    }
  },
  "cells": [
    {
      "cell_type": "markdown",
      "metadata": {
        "id": "view-in-github",
        "colab_type": "text"
      },
      "source": [
        "<a href=\"https://colab.research.google.com/github/Rjricafrente227/NUMERICAL-METHOD/blob/main/Matrix_algebra.ipynb\" target=\"_parent\"><img src=\"https://colab.research.google.com/assets/colab-badge.svg\" alt=\"Open In Colab\"/></a>"
      ]
    },
    {
      "cell_type": "markdown",
      "metadata": {
        "id": "u3F6mL-jUPMo"
      },
      "source": [
        "##Matrix and it's operation\n",
        "\n"
      ]
    },
    {
      "cell_type": "code",
      "metadata": {
        "colab": {
          "base_uri": "https://localhost:8080/"
        },
        "id": "JaoZnidtUYNG",
        "outputId": "46b3c0be-6edb-4a10-ebe2-1f2ef7d2f4e7"
      },
      "source": [
        "import numpy as np\n",
        "a = np.array([1,2,3])\n",
        "a[0]=4\n",
        "print (a)\n"
      ],
      "execution_count": null,
      "outputs": [
        {
          "output_type": "stream",
          "name": "stdout",
          "text": [
            "[4 2 3]\n"
          ]
        }
      ]
    },
    {
      "cell_type": "code",
      "metadata": {
        "colab": {
          "base_uri": "https://localhost:8080/"
        },
        "id": "SOnWRwRWUksF",
        "outputId": "365a3bd7-ddc4-48ae-9eed-c4037c6e8f35"
      },
      "source": [
        "import numpy as np\n",
        "b = np.array([[1,2,3], [4,5,6]]) \n",
        "b[0,0]=7\n",
        "print(b)\n",
        "\n"
      ],
      "execution_count": null,
      "outputs": [
        {
          "output_type": "stream",
          "name": "stdout",
          "text": [
            "[[7 2 3]\n",
            " [4 5 6]]\n"
          ]
        }
      ]
    },
    {
      "cell_type": "code",
      "metadata": {
        "colab": {
          "base_uri": "https://localhost:8080/"
        },
        "id": "2bO_C_paXVwL",
        "outputId": "beec7f9c-c37e-4bbe-adb8-f2eb70fc0f1c"
      },
      "source": [
        "import numpy as np \n",
        "c =np.array([[1,2,3,],[4,5,6],[6,7,8]])\n",
        "print(c)"
      ],
      "execution_count": null,
      "outputs": [
        {
          "output_type": "stream",
          "name": "stdout",
          "text": [
            "[[1 2 3]\n",
            " [4 5 6]\n",
            " [6 7 8]]\n"
          ]
        }
      ]
    },
    {
      "cell_type": "code",
      "metadata": {
        "colab": {
          "base_uri": "https://localhost:8080/"
        },
        "id": "7HbfD-byXyvr",
        "outputId": "2472efe8-406e-4c36-c006-bbeeb21aa6e0"
      },
      "source": [
        "import numpy as np\n",
        "d= np.full((2,2),4)\n",
        "print(d)"
      ],
      "execution_count": null,
      "outputs": [
        {
          "output_type": "stream",
          "name": "stdout",
          "text": [
            "[[4 4]\n",
            " [4 4]]\n"
          ]
        }
      ]
    },
    {
      "cell_type": "code",
      "metadata": {
        "colab": {
          "base_uri": "https://localhost:8080/"
        },
        "id": "TC8NCYBrX61K",
        "outputId": "77ab8e06-a6bf-442c-9cd0-cb7cea8b4028"
      },
      "source": [
        "import numpy as np\n",
        "e = np.eye(2)\n",
        "print(e)"
      ],
      "execution_count": null,
      "outputs": [
        {
          "output_type": "stream",
          "name": "stdout",
          "text": [
            "[[1. 0.]\n",
            " [0. 1.]]\n"
          ]
        }
      ]
    },
    {
      "cell_type": "code",
      "metadata": {
        "colab": {
          "base_uri": "https://localhost:8080/"
        },
        "id": "hYK1-TngYazt",
        "outputId": "a5f9e583-cd35-40cb-b8c6-fd5b6dc81329"
      },
      "source": [
        "import numpy as np\n",
        "e=np.diagonal([[1,2,3,],[4,5,6],[7,8,9]])\n",
        "\n",
        "print(e)"
      ],
      "execution_count": null,
      "outputs": [
        {
          "output_type": "stream",
          "name": "stdout",
          "text": [
            "[1 5 9]\n"
          ]
        }
      ]
    },
    {
      "cell_type": "code",
      "metadata": {
        "colab": {
          "base_uri": "https://localhost:8080/"
        },
        "id": "jXsG5mozY7f_",
        "outputId": "e1dc7b43-4223-44d7-bbe9-fe77029f866c"
      },
      "source": [
        "import numpy as np\n",
        "f = np.empty((0,10))\n",
        "print(f)"
      ],
      "execution_count": null,
      "outputs": [
        {
          "output_type": "stream",
          "name": "stdout",
          "text": [
            "[]\n"
          ]
        }
      ]
    },
    {
      "cell_type": "code",
      "metadata": {
        "colab": {
          "base_uri": "https://localhost:8080/"
        },
        "id": "1RcEonIEaCqk",
        "outputId": "b5f1daac-d6e9-40c2-ab34-9fc1dda5357a"
      },
      "source": [
        "import numpy as np\n",
        "g= np.zeros((2,2)) \n",
        "print(g)"
      ],
      "execution_count": null,
      "outputs": [
        {
          "output_type": "stream",
          "name": "stdout",
          "text": [
            "[[0. 0.]\n",
            " [0. 0.]]\n"
          ]
        }
      ]
    },
    {
      "cell_type": "code",
      "metadata": {
        "colab": {
          "base_uri": "https://localhost:8080/"
        },
        "id": "cDFOMOTIaUs4",
        "outputId": "5649c583-dc52-4475-e334-2008cb757086"
      },
      "source": [
        "import numpy as np\n",
        "e = np.eye(2)\n",
        "g= np.zeros((2,2)) \n",
        "print(e)\n",
        "print(g)\n",
        "print(e+g)\n",
        "print(e-g)\n",
        "print(g-e)"
      ],
      "execution_count": null,
      "outputs": [
        {
          "output_type": "stream",
          "name": "stdout",
          "text": [
            "[[1. 0.]\n",
            " [0. 1.]]\n",
            "[[0. 0.]\n",
            " [0. 0.]]\n",
            "[[1. 0.]\n",
            " [0. 1.]]\n",
            "[[1. 0.]\n",
            " [0. 1.]]\n",
            "[[-1.  0.]\n",
            " [ 0. -1.]]\n"
          ]
        }
      ]
    },
    {
      "cell_type": "code",
      "metadata": {
        "id": "2AbVu5O6atIv"
      },
      "source": [
        ""
      ],
      "execution_count": null,
      "outputs": []
    }
  ]
}