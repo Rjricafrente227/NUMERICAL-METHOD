{
  "nbformat": 4,
  "nbformat_minor": 0,
  "metadata": {
    "colab": {
      "name": " Prelim Exam.ipynb",
      "provenance": [],
      "authorship_tag": "ABX9TyNP8F8hBNabkSFqaZe58m6a",
      "include_colab_link": true
    },
    "kernelspec": {
      "name": "python3",
      "display_name": "Python 3"
    },
    "language_info": {
      "name": "python"
    }
  },
  "cells": [
    {
      "cell_type": "markdown",
      "metadata": {
        "id": "view-in-github",
        "colab_type": "text"
      },
      "source": [
        "<a href=\"https://colab.research.google.com/github/Rjricafrente227/NUMERICAL-METHOD/blob/main/Prelim_Exam.ipynb\" target=\"_parent\"><img src=\"https://colab.research.google.com/assets/colab-badge.svg\" alt=\"Open In Colab\"/></a>"
      ]
    },
    {
      "cell_type": "markdown",
      "metadata": {
        "id": "pnAHZ5kZOTtk"
      },
      "source": [
        "### Prelim exam\n"
      ]
    },
    {
      "cell_type": "code",
      "metadata": {
        "colab": {
          "base_uri": "https://localhost:8080/"
        },
        "id": "3wkFHDMKN0Eo",
        "outputId": "2cb968fa-1855-4351-b457-f8d9300702b3"
      },
      "source": [
        "import numpy as np\n",
        "(a) = np.array ([[1, 2, 3],[2, 3, 3],[3, 4, -2]])\n",
        "print(A)\n",
        "\n",
        "B = np.array ([36])\n",
        "C = np.array ([-31])\n",
        "e= (B+C)\n",
        "print(e)\n",
        "print (round(np.linalg.det(a)))\n",
        "print (np.linalg.det(a))\n"
      ],
      "execution_count": null,
      "outputs": [
        {
          "output_type": "stream",
          "name": "stdout",
          "text": [
            "[[ 1  2  3]\n",
            " [ 2  3  3]\n",
            " [ 3  4 -2]]\n",
            "[5]\n",
            "5\n",
            "5.000000000000001\n"
          ]
        }
      ]
    },
    {
      "cell_type": "code",
      "metadata": {
        "id": "rdE6RytbPvev"
      },
      "source": [
        ""
      ],
      "execution_count": null,
      "outputs": []
    }
  ]
}