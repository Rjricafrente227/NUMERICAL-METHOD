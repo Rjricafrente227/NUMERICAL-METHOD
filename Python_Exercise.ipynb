{
  "nbformat": 4,
  "nbformat_minor": 0,
  "metadata": {
    "colab": {
      "name": "Python Exercise.ipynb",
      "provenance": [],
      "authorship_tag": "ABX9TyNNb456w0D0RuWPrChFSQIB",
      "include_colab_link": true
    },
    "kernelspec": {
      "name": "python3",
      "display_name": "Python 3"
    },
    "language_info": {
      "name": "python"
    }
  },
  "cells": [
    {
      "cell_type": "markdown",
      "metadata": {
        "id": "view-in-github",
        "colab_type": "text"
      },
      "source": [
        "<a href=\"https://colab.research.google.com/github/Rjricafrente227/NUMERICAL-METHOD/blob/main/Python_Exercise.ipynb\" target=\"_parent\"><img src=\"https://colab.research.google.com/assets/colab-badge.svg\" alt=\"Open In Colab\"/></a>"
      ]
    },
    {
      "cell_type": "code",
      "metadata": {
        "id": "MEsCijtHaXxO",
        "colab": {
          "base_uri": "https://localhost:8080/"
        },
        "outputId": "7c21ffd7-04de-42cf-ebf4-bb8c48172821"
      },
      "source": [
        "Name = input(\"Enter Your Name: \")\n",
        "Program= input(\"Enter your Program: \")\n",
        "\n",
        "pg = float (input(\"Enter your Prelim Grade: \"))\n",
        "mg = float (input(\"Enter your Midterm Grade: \"))\n",
        "fg = float (input(\"Enter your Final Grade: \"))\n",
        "\n",
        "sem_grade=(pg*0.30)+(mg*0.30)+(fg*0.40)\n",
        "\n",
        "(\"Student's Name: \", Name)\n",
        "(\"Program: \", Program)\n",
        "(\"Total Semestral Grade is: \", sem_grade)"
      ],
      "execution_count": null,
      "outputs": [
        {
          "output_type": "stream",
          "text": [
            "Enter Your Name: rj\n",
            "Enter your Program: bs cpe\n",
            "Enter your Prelim Grade: 50\n",
            "Enter your Midterm Grade: 50\n",
            "Enter your Final Grade: 70\n"
          ],
          "name": "stdout"
        },
        {
          "output_type": "execute_result",
          "data": {
            "text/plain": [
              "('Total Semestral Grade is: ', 58.0)"
            ]
          },
          "metadata": {},
          "execution_count": 25
        }
      ]
    },
    {
      "cell_type": "code",
      "metadata": {
        "id": "b1f3EHfpoc3J"
      },
      "source": [
        ""
      ],
      "execution_count": null,
      "outputs": []
    },
    {
      "cell_type": "code",
      "metadata": {
        "id": "-jfFadK1hqRA"
      },
      "source": [
        ""
      ],
      "execution_count": null,
      "outputs": []
    }
  ]
}