{
  "nbformat": 4,
  "nbformat_minor": 0,
  "metadata": {
    "colab": {
      "name": " Python Exercise 2.ipynb",
      "provenance": [],
      "authorship_tag": "ABX9TyOcIMYADcN0qW6YEpSIqi4Z",
      "include_colab_link": true
    },
    "kernelspec": {
      "name": "python3",
      "display_name": "Python 3"
    },
    "language_info": {
      "name": "python"
    }
  },
  "cells": [
    {
      "cell_type": "markdown",
      "metadata": {
        "id": "view-in-github",
        "colab_type": "text"
      },
      "source": [
        "<a href=\"https://colab.research.google.com/github/Rjricafrente227/NUMERICAL-METHOD/blob/main/Python_Exercise_2.ipynb\" target=\"_parent\"><img src=\"https://colab.research.google.com/assets/colab-badge.svg\" alt=\"Open In Colab\"/></a>"
      ]
    },
    {
      "cell_type": "markdown",
      "metadata": {
        "id": "zsBlczb3xxy3"
      },
      "source": [
        "###Matrix and It's Operations\n"
      ]
    },
    {
      "cell_type": "code",
      "metadata": {
        "colab": {
          "base_uri": "https://localhost:8080/"
        },
        "id": "vFh2vepqvazk",
        "outputId": "75a7f15c-e1a9-4040-89ae-867262f4ee1d"
      },
      "source": [
        "import numpy as np\n",
        "\n",
        "A = np.array ([[-5, 0],[4, 1]])\n",
        "B = np.array ([[6, 3],[2, 3]])\n",
        "print(A)\n",
        "print(B)\n",
        "#Addition\n",
        "c = A + B\n",
        "print(c) \n",
        "\n",
        "#Substraction\n",
        "d = B-A\n",
        "print(d)\n",
        "\n",
        "#Substruction\n",
        "e = A-B\n",
        "print(e)\n"
      ],
      "execution_count": null,
      "outputs": [
        {
          "output_type": "stream",
          "name": "stdout",
          "text": [
            "[[-5  0]\n",
            " [ 4  1]]\n",
            "[[6 3]\n",
            " [2 3]]\n",
            "[[1 3]\n",
            " [6 4]]\n",
            "[[11  3]\n",
            " [-2  2]]\n",
            "[[-11  -3]\n",
            " [  2  -2]]\n"
          ]
        }
      ]
    },
    {
      "cell_type": "markdown",
      "metadata": {
        "id": "rEyctyFRxq4n"
      },
      "source": [
        ""
      ]
    }
  ]
}